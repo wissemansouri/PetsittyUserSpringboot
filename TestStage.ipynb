{
  "nbformat": 4,
  "nbformat_minor": 0,
  "metadata": {
    "colab": {
      "provenance": [],
      "authorship_tag": "ABX9TyOdt2r741rjy3Nj9E6aOddb",
      "include_colab_link": true
    },
    "kernelspec": {
      "name": "python3",
      "display_name": "Python 3"
    },
    "language_info": {
      "name": "python"
    }
  },
  "cells": [
    {
      "cell_type": "markdown",
      "metadata": {
        "id": "view-in-github",
        "colab_type": "text"
      },
      "source": [
        "<a href=\"https://colab.research.google.com/github/wissemansouri/PetsittyUserSpringboot/blob/master/TestStage.ipynb\" target=\"_parent\"><img src=\"https://colab.research.google.com/assets/colab-badge.svg\" alt=\"Open In Colab\"/></a>"
      ]
    },
    {
      "cell_type": "code",
      "execution_count": 77,
      "metadata": {
        "colab": {
          "base_uri": "https://localhost:8080/"
        },
        "id": "Md3IXt42agij",
        "outputId": "e73b273d-adcc-4823-ef2a-bbca9f851e8e"
      },
      "outputs": [
        {
          "output_type": "stream",
          "name": "stdout",
          "text": [
            "Looking in indexes: https://pypi.org/simple, https://us-python.pkg.dev/colab-wheels/public/simple/\n",
            "Requirement already satisfied: pymongo in /usr/local/lib/python3.9/dist-packages (4.3.3)\n",
            "Requirement already satisfied: dnspython<3.0.0,>=1.16.0 in /usr/local/lib/python3.9/dist-packages (from pymongo) (2.3.0)\n"
          ]
        }
      ],
      "source": [
        "import json \n",
        "# !pip c pour installer pymongo sous colab si j'étais sous anaconda je fais pip tout court\n",
        "!pip install pymongo\n",
        "from pymongo import MongoClient \n",
        "\n",
        "def collection(uri):\n",
        "    client = MongoClient(uri)\n",
        "    database = client [\"rhobs\"]\n",
        "    collection = database[\"Test Stage\"] # j'ai nommé ma collection Test Stage \n",
        "    return collection\n",
        "\n",
        "\n",
        "def load(uri=\"localhost\", datapath=\"C:\\\\Utilisateurs\\\\tempo\\\\Téléchargements\\\\data.json.codechallenge.janv22.RHOBS\"):\n",
        "    coll = collection(uri=uri)\n",
        "    with open(datapath, \"r\") as fp:\n",
        "\n",
        "\n",
        "      for person in data:\n",
        "        coll.insert_one(person)\n",
        "\n",
        "\n",
        "\n",
        "\n"
      ]
    },
    {
      "cell_type": "markdown",
      "source": [
        "Count le nombre de femme et d'hommes \n"
      ],
      "metadata": {
        "id": "In77kUXq4jjX"
      }
    },
    {
      "cell_type": "code",
      "source": [
        "import json\n",
        "import pandas as pd\n",
        "import matplotlib.pyplot as plt\n",
        "from pymongo import MongoClient\n",
        "\n",
        "def count_MaleFemale(uri, datapath):\n",
        "    \n",
        "    client = MongoClient(uri)\n",
        "    database = client[\"rhobs\"]\n",
        "    collection = database[\"Test Stage\"]\n",
        "\n",
        "   \n",
        "    with open(datapath, 'r') as file:\n",
        "        data = json.load(file)\n",
        "\n",
        "    nbr_hommes = 0\n",
        "    nbr_femmes = 0\n",
        "    for record in data:\n",
        "        if record['sex'] == 'M':\n",
        "            nbr_hommes += 1\n",
        "        elif record['sex'] == 'F':\n",
        "            nbr_femmes += 1\n",
        "\n",
        "\n",
        "    result = {'nbr_hommes': nbr_hommes, 'nbr_femmes': nbr_femmes}\n",
        "    collection.insert_one(result)\n",
        "\n",
        "   \n",
        "    print(f\"Nombre d'hommes : {nbr_hommes}\")\n",
        "    print(f\"Nombre de femmes : {nbr_femmes}\")\n",
        "\n",
        "    count_MaleFemale(\"localhost\", \"C:\\\\Utilisateurs\\\\tempo\\\\Téléchargements\\\\data.json.codechallenge.janv22.RHOBS\")\n",
        "\n",
        "    \n",
        "    df = pd.DataFrame({'Genre': ['Hommes', 'Femmes'], 'Nombre': [nbr_hommes, nbr_femmes]})\n",
        "\n",
        "    \n",
        "    print(df)\n",
        "\n",
        "    values = list(df['Nombre'])\n",
        "\n",
        "    \n",
        "    labels = ['Hommes', 'Femmes']\n",
        "\n",
        "    \n",
        "    plt.bar(labels, values)\n",
        "\n",
        "   \n",
        "    plt.show()\n",
        "\n",
        "    \n",
        "\n",
        "   "
      ],
      "metadata": {
        "id": "LGRHjKPwnMeV"
      },
      "execution_count": 88,
      "outputs": []
    },
    {
      "cell_type": "markdown",
      "source": [
        "Fonction qui renvoie les entreprise de plus de N personnes"
      ],
      "metadata": {
        "id": "VNtnmgS20TGI"
      }
    },
    {
      "cell_type": "code",
      "source": [
        "def grande_companies(companies, N):    \n",
        "  # N: le nbr minimal des employés pour que la company est considéré comme grande\n",
        "  # companies : liste qui représente les entreprises contenant cacaun d'eux le nom de l'entreprise& son nbr d'employés\n",
        "    grande_companies = []\n",
        "    for company in companies:\n",
        "      if company['size'] > N:\n",
        "        grande_companies.append(company['name'])\n",
        "\n",
        "    return grande_companies"
      ],
      "metadata": {
        "id": "pT4xN8OpyhEG"
      },
      "execution_count": 66,
      "outputs": []
    }
  ]
}